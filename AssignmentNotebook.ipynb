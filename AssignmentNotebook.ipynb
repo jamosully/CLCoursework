{
  "cells": [
    {
      "cell_type": "markdown",
      "metadata": {
        "id": "i0vSCAwPAleW"
      },
      "source": [
        "## COMSM0022 Computational Logic for Artificial Intelligence Assignment\n",
        "##### James O'Sullivan, gx19928@bristol.ac.uk, Trisha Khallaghi, trisha.khallaghi@bristol.ac.uk\n",
        "This Notebook is the report for the Computational Logic for Artificial Intelligence coursework. It will cover our implementation of Negation and Default Rule, with examples provided for each. Due to issues with pip, the implementations were tested utilising an Ubuntu subsystem, with the outputs displayed as code with each section.\n",
        "\n",
        "For each addition, changes were made to both the <code>prolexa_engine.pl</code> and <code>prolexa_grammar.pl</code>."
      ]
    },
    {
      "cell_type": "markdown",
      "metadata": {
        "id": "hij-_4uHAzIj"
      },
      "source": [
        "## Negation\n",
        "\n"
      ]
    },
    {
      "cell_type": "markdown",
      "metadata": {},
      "source": [
        "In this section, we will provide our implementation of Negation in Prolexa, utilising the example provide in the assignment description:\n",
        "\n",
        "<code>Every teacher is happy. Donald is not happy. Therefore, Donald is not a teacher</code>\n"
      ]
    },
    {
      "cell_type": "markdown",
      "metadata": {},
      "source": [
        "### Prolexa Grammar \n",
        "\n",
        "To implement Negation, the grammar of Prolexa needs to understand the effect of the word \"not\" within a sentence. To add this, the first step is to include the not operator in the grammar file.\n",
        "\n",
        "```julia\n",
        ":- op(900, fy, not).\n",
        "```\n",
        "\n",
        "Additionally, the terms happy, teacher, and Donald were included in the vocabulary of Prolexa as well, using the pre-existing templates provided for proper nouns, nouns, and adjectives:\n",
        "\n",
        "```julia\n",
        "pred(teacher, 1,[n/teacher]).\n",
        "pred(happy,   1,[a/happy]).\n",
        "proper_noun(s,donald) --> [donald].\n",
        "stored_rule(1,[(teacher(X):-happy(X))]).\n",
        "```\n",
        "\n",
        "Now with the vocabulary added to Prolexa, the next step is to implement verb phrases that include a negated term:\n",
        "\n",
        "```julia\n",
        "verb_phrase(s,not(M)) --> [is],[not],property(s,M).\n",
        "verb_phrase(s,not(M)) --> [are],[not],property(s,M).\n",
        "verb_phrase(s,not(M)) --> [does],[not],property(s,M).\n",
        "verb_phrase(s,not(M)) --> [not],property(s,M).\n",
        "```\n",
        "\n",
        "With new verb phrases, the definitions of sentences need to be extended to include negated terms. These sentences build upon the grammar rules already present in the grammar engine, including a special case for when the verb phrase itself is negative.\n",
        "\n",
        "```julia\n",
        "sentence1([(H:-not(B))]) --> determiner(N,M1,M2,[(H:-B)]),noun(N,M1),verb_phrase(N,not(M2)).\n",
        "sentence1([(not(L):-true)]) --> proper_noun(N,X),verb_phrase(N,not(X=>L)).\n",
        "```\n",
        "\n",
        "The final part of extending the grammar will involve the addition of new question rules which will allow Prolexa to correctly identify questions that contain Negation\n",
        "\n",
        "```julia\n",
        "question1(not(Q)) --> [who],verb_phrase(s,not(_X=>Q)).\n",
        "question1(not(Q)) --> [is],proper_noun(N,X),verb_phrase(N,not(X=>Q)).\n",
        "```\n",
        "\n",
        "With these additions to the grammar rules, Prolexa is now capable of recognising negation in sentences and questions, as demonstrated below. However, the engine needs modifying for negations to be saved as knowledge. "
      ]
    },
    {
      "cell_type": "code",
      "execution_count": null,
      "metadata": {
        "vscode": {
          "languageId": "plaintext"
        }
      },
      "outputs": [],
      "source": [
        "Hello! I'm ProlexaPlus! Tell me anything, ask me anything.\n",
        "> donald is happy\n",
        "*** utterance(donald is happy)\n",
        "*** rule([(happy(donald):-true)])\n",
        "*** answer(I will remember that donald is happy)\n",
        "*** answer(I heard you say,  donald is happy , could you rephrase that please?)\n",
        "I will remember that donald is happy\n",
        "> tell me about donald\n",
        "*** utterance(tell me about donald)\n",
        "*** goal(all_answers(donald,_2882))\n",
        "*** answer(donald is a teacher. donald is happy)\n",
        "donald is a teacher. donald is happy\n",
        "> donald is not happy\n",
        "*** utterance(donald is not happy)\n",
        "*** rule([(not(happy(donald)):-true)])\n",
        "*** answer(I will remember that donald is not happy)\n",
        "*** answer(I heard you say,  donald is not happy , could you rephrase that please?)\n",
        "I will remember that donald is not happy\n",
        "> tell me about donald\n",
        "*** utterance(tell me about donald)\n",
        "*** goal(all_answers(donald,_22684))\n",
        "*** answer(donald is a teacher. donald is happy)\n",
        "donald is a teacher. donald is happy"
      ]
    },
    {
      "cell_type": "markdown",
      "metadata": {},
      "source": [
        "### Prolexa Engine\n",
        "\n",
        "With <code>prolexa_engine.pl</code> the majority of changes for new features will be made to the meta-interpreter confirmation rules <code>prove_rb</code>. In the case of negation, this can be achieved via the addition of a new rule which utilises proof by contrapositive to handle negation cases in Prolexa\n",
        "\n",
        "```julia\n",
        "prove_rb(not(B), Rulebase,P0,P):-\n",
        "\tfind_clause((A:-B),Rule,Rulebase),\n",
        "\tprove_rb(not(A),Rulebase,[p(not(B),Rule)|P0],P).\n",
        "```\n",
        "\n",
        "This can be defined formally, with A as the antecedent and Q as the consequent of the following relationship:\n",
        "\n",
        "$$\n",
        "A \\implies B\n",
        "$$\n",
        "\n",
        "In this example, if Donald is a teacher, it implies that they are happy. By definition, the contrapositive,\n",
        "\n",
        "$$\n",
        "\\lnot A \\implies \\lnot B\n",
        "$$\n",
        "\n",
        "is logically equivalent to it i.e., if Donald is a not a teacher, it implies that they are not happy. Therefore, with their logical equivalence, by confirming the second statement we confirm the first, and vice-versa.\n",
        "\n",
        "Additionally, modifications were made to the <code>prove_question</code> and <code>explain_question</code> predicates to allow for negative queries.\n",
        "\n",
        "```julia\n",
        "prove_question(Query,Answer):-\n",
        "\tfindall(R,prolexa:stored_rule(_SessionId,R),Rulebase),\n",
        "\t( ...\n",
        "\t; prove_rb(not(Query),Rulebase) ->\n",
        "\t\ttransform(not(Query),Clauses),\n",
        "\t\tphrase(sentence(Clauses),AnswerAtomList),\n",
        "\t\tatomics_to_string(AnswerAtomList,\" \",Answer)\n",
        "\t; Answer = \"\"\n",
        "\t).\n",
        "\n",
        "explain_question(Query,SessionId,Answer):-\n",
        "\tfindall(R,prolexa:stored_rule(SessionId,R),Rulebase),\n",
        "\t( ...\n",
        "\t; prove_rb(not(Query),Rulebase,[],Proof) ->\n",
        "\t\tmaplist(pstep2message,Proof,Msg),\n",
        "\t\tphrase(sentence1([(not(Query):-true)]),L),\n",
        "\t\tatomic_list_concat([therefore|L],\" \",Last),\n",
        "\t\tappend(Msg,[Last],Messages),\n",
        "\t\tatomic_list_concat(Messages,\"; \",Answer)\n",
        "\t; Answer = 'Sorry, I don\\'t think this is the case'\n",
        "\t).\n",
        "```\t"
      ]
    },
    {
      "cell_type": "code",
      "execution_count": null,
      "metadata": {
        "vscode": {
          "languageId": "plaintext"
        }
      },
      "outputs": [],
      "source": [
        "Hello! I'm ProlexaPlus! Tell me anything, ask me anything.\n",
        "> Donald is not happy\n",
        "*** utterance(Donald is not happy)\n",
        "*** rule([(not(happy(donald)):-true)])\n",
        "*** answer(I will remember that Donald is not happy)\n",
        "*** answer(I heard you say,  Donald is not happy , could you rephrase that please?)\n",
        "I will remember that Donald is not happy\n",
        "> tell me about Donald\n",
        "*** utterance(tell me about Donald)\n",
        "*** goal(all_answers(donald,_2882))\n",
        "*** answer(donald is not happy)\n",
        "donald is not happy"
      ]
    },
    {
      "cell_type": "markdown",
      "metadata": {},
      "source": [
        "Another potential approach for implementing negation would be to utilise Modus tolens, which is formalised as follows:\n",
        "\n",
        "$$\n",
        "A \\implies B, \\lnot B \\therefore \\lnot A\n",
        "$$\n",
        "\n",
        "This could be implemented with the following predicate:\n",
        "\n",
        "```julia\n",
        "prove_rb(not(A),Rulebase,P0,P):-\n",
        "\tfind_clause((B:-A),Rule,Rulebase),\n",
        "\tprove_rb(not(B),Rulebase,[p(A,Rule)|P0],P).\n",
        "```"
      ]
    },
    {
      "cell_type": "markdown",
      "metadata": {},
      "source": [
        "## Default Rules\n"
      ]
    },
    {
      "cell_type": "markdown",
      "metadata": {},
      "source": [
        "This section will walk through the implementation of Default Rules in Prolexa. Once again, the example provided in the assignment description will be used as the example:\n",
        "\n",
        "<code>Most birds fly except penguins. Tweety is a bird. Therefore, assuming Tweety is not a penguin, Tweety flies.</code>"
      ]
    },
    {
      "cell_type": "markdown",
      "metadata": {},
      "source": [
        "### Prolexa Grammar \n",
        "\n",
        "For <code>prolexa_grammer.pl</code>, a new determiner was created for the quanitfier \"most\"\n",
        "\n",
        "```julia\n",
        "determiner(p,X=>B,X=>H,X=>E,[(H:-B,not(E))]) --> [most].\n",
        "```\n",
        "\n",
        "This determiner allows the addition of an extra noun/proper noun in the sentences for default rules\n",
        "\n",
        "```julia\n",
        "sentence1(C) --> determiner(N,M1,M2,M3,C),noun(N,M1),verb_phrase(N,M2),[except],noun(N,M3).\n",
        "sentence1(C) --> determiner(N,M1,M2,M3,C),noun(N,M1),verb_phrase(N,M2),[except],proper_noun(N,M3).\n",
        "```\n",
        "\n",
        "Alongside these new sentence structures, new verb phrases have been added\n",
        "\n",
        "```julia\n",
        "verb_phrase(s,not(M)) --> [does,not],iverb(p,M),\n",
        "verb_phrase(p,not(M)) --> [do,not],iverb(p,M),\n",
        "```"
      ]
    },
    {
      "cell_type": "markdown",
      "metadata": {},
      "source": [
        "### Prolexa Engine\n",
        "\n"
      ]
    },
    {
      "cell_type": "markdown",
      "metadata": {},
      "source": [
        "The changes to the <code>prolexa_engine.pl</code> are similar to the changes made for Negation, with the <code>prove_rb</code> rules of the meta-interpreter being altered to implement negation as failure from Simply Logical, chapter 3.\n",
        "\n",
        "```julia\n",
        "prove_rb(not(A),Rulebase,P0,P):-\n",
        "    prove_rb(A,Rulebase,P0,P), !, fail.\n",
        "prove_rb(not(_A),_Rulebase,P,P):-!.\n",
        "```"
      ]
    },
    {
      "cell_type": "code",
      "execution_count": null,
      "metadata": {
        "vscode": {
          "languageId": "plaintext"
        }
      },
      "outputs": [],
      "source": [
        "> most birds fly except penguins\n",
        "*** utterance(most birds fly except penguins)\n",
        "*** rule([(fly(_3118):-bird(_3118),not(penguin(_3118)))])\n",
        "*** answer(I will remember that most birds fly except penguins)\n",
        "*** answer(I heard you say,  most birds fly except penguins , could you rephrase that please?)\n",
        "I will remember that most birds fly except penguins\n",
        "> tweety is a penguin\n",
        "*** utterance(tweety is a penguin)\n",
        "*** rule([(penguin(tweety):-true)])\n",
        "*** answer(I will remember that tweety is a penguin)\n",
        "*** answer(I heard you say,  tweety is a penguin , could you rephrase that please?)\n",
        "I will remember that tweety is a penguin\n",
        "> tell me about tweety\n",
        "*** utterance(tell me about tweety)\n",
        "*** goal(all_answers(tweety,_29312))\n",
        "*** answer(tweety is not human. tweety is not mortal. tweety is a bird. tweety is a penguin. tweety is not a sparrow. tweety does not fly. tweety is not a teacher. tweety is not happy)\n",
        "tweety is not human. tweety is not mortal. tweety is a bird. tweety is a penguin. tweety is not a sparrow. tweety does not fly. tweety is not a teacher. tweety is not happy"
      ]
    },
    {
      "cell_type": "markdown",
      "metadata": {},
      "source": [
        "## Conclusion\n",
        "\n",
        "We have demonstrated two potential expansions to Prolexa, negation and default rules, highlighting each approaches shortcomings, and where further work can be undertaken.\n",
        "\n",
        "On the whole, our implementation of negation is servicable, but lacks the ability to remove conflicting rules within the "
      ]
    }
  ],
  "metadata": {
    "colab": {
      "collapsed_sections": [],
      "name": "Prolexa Plus Demo Notebook.ipynb",
      "provenance": []
    },
    "kernelspec": {
      "display_name": "Python 3",
      "name": "python3"
    },
    "language_info": {
      "name": "python"
    },
    "widgets": {
      "application/vnd.jupyter.widget-state+json": {
        "5c965e705b494f7e8cdb6d02cc5a6553": {
          "model_module": "@jupyter-widgets/controls",
          "model_module_version": "1.5.0",
          "model_name": "ButtonStyleModel",
          "state": {
            "_model_module": "@jupyter-widgets/controls",
            "_model_module_version": "1.5.0",
            "_model_name": "ButtonStyleModel",
            "_view_count": null,
            "_view_module": "@jupyter-widgets/base",
            "_view_module_version": "1.2.0",
            "_view_name": "StyleView",
            "button_color": null,
            "font_weight": ""
          }
        },
        "7c763c143f9043b39a5af860c2d79d23": {
          "model_module": "@jupyter-widgets/controls",
          "model_module_version": "1.5.0",
          "model_name": "ButtonModel",
          "state": {
            "_dom_classes": [],
            "_model_module": "@jupyter-widgets/controls",
            "_model_module_version": "1.5.0",
            "_model_name": "ButtonModel",
            "_view_count": null,
            "_view_module": "@jupyter-widgets/controls",
            "_view_module_version": "1.5.0",
            "_view_name": "ButtonView",
            "button_style": "info",
            "description": "Ask",
            "disabled": false,
            "icon": "",
            "layout": "IPY_MODEL_d35477f4aa2d46009151e655c32ef9b2",
            "style": "IPY_MODEL_5c965e705b494f7e8cdb6d02cc5a6553",
            "tooltip": ""
          }
        },
        "866eb75519134b6d8298aeda3b02c808": {
          "model_module": "@jupyter-widgets/base",
          "model_module_version": "1.2.0",
          "model_name": "LayoutModel",
          "state": {
            "_model_module": "@jupyter-widgets/base",
            "_model_module_version": "1.2.0",
            "_model_name": "LayoutModel",
            "_view_count": null,
            "_view_module": "@jupyter-widgets/base",
            "_view_module_version": "1.2.0",
            "_view_name": "LayoutView",
            "align_content": null,
            "align_items": null,
            "align_self": null,
            "border": "1px solid black",
            "bottom": null,
            "display": null,
            "flex": null,
            "flex_flow": null,
            "grid_area": null,
            "grid_auto_columns": null,
            "grid_auto_flow": null,
            "grid_auto_rows": null,
            "grid_column": null,
            "grid_gap": null,
            "grid_row": null,
            "grid_template_areas": null,
            "grid_template_columns": null,
            "grid_template_rows": null,
            "height": null,
            "justify_content": null,
            "justify_items": null,
            "left": null,
            "margin": null,
            "max_height": null,
            "max_width": null,
            "min_height": null,
            "min_width": null,
            "object_fit": null,
            "object_position": null,
            "order": null,
            "overflow": null,
            "overflow_x": null,
            "overflow_y": null,
            "padding": null,
            "right": null,
            "top": null,
            "visibility": null,
            "width": null
          }
        },
        "8811264ce4e74e13830181ed911d0aad": {
          "model_module": "@jupyter-widgets/controls",
          "model_module_version": "1.5.0",
          "model_name": "VBoxModel",
          "state": {
            "_dom_classes": [],
            "_model_module": "@jupyter-widgets/controls",
            "_model_module_version": "1.5.0",
            "_model_name": "VBoxModel",
            "_view_count": null,
            "_view_module": "@jupyter-widgets/controls",
            "_view_module_version": "1.5.0",
            "_view_name": "VBoxView",
            "box_style": "",
            "children": [
              "IPY_MODEL_9b6c304e9f2644baadd7c52699f97f4b",
              "IPY_MODEL_7c763c143f9043b39a5af860c2d79d23",
              "IPY_MODEL_f66f034025314913a5bac66234e33df2"
            ],
            "layout": "IPY_MODEL_b047630437e845c1887c418669785c5c"
          }
        },
        "9b6c304e9f2644baadd7c52699f97f4b": {
          "model_module": "@jupyter-widgets/controls",
          "model_module_version": "1.5.0",
          "model_name": "TextareaModel",
          "state": {
            "_dom_classes": [],
            "_model_module": "@jupyter-widgets/controls",
            "_model_module_version": "1.5.0",
            "_model_name": "TextareaModel",
            "_view_count": null,
            "_view_module": "@jupyter-widgets/controls",
            "_view_module_version": "1.5.0",
            "_view_name": "TextareaView",
            "continuous_update": true,
            "description": "Question:",
            "description_tooltip": null,
            "disabled": false,
            "layout": "IPY_MODEL_baf12de9a3644fc1a7fdd32395a9efbd",
            "placeholder": "Input text",
            "rows": null,
            "style": "IPY_MODEL_d82d12f6a0a249e5a5750af18cbc020e",
            "value": "tell me about Peter"
          }
        },
        "b047630437e845c1887c418669785c5c": {
          "model_module": "@jupyter-widgets/base",
          "model_module_version": "1.2.0",
          "model_name": "LayoutModel",
          "state": {
            "_model_module": "@jupyter-widgets/base",
            "_model_module_version": "1.2.0",
            "_model_name": "LayoutModel",
            "_view_count": null,
            "_view_module": "@jupyter-widgets/base",
            "_view_module_version": "1.2.0",
            "_view_name": "LayoutView",
            "align_content": null,
            "align_items": null,
            "align_self": null,
            "border": null,
            "bottom": null,
            "display": null,
            "flex": null,
            "flex_flow": null,
            "grid_area": null,
            "grid_auto_columns": null,
            "grid_auto_flow": null,
            "grid_auto_rows": null,
            "grid_column": null,
            "grid_gap": null,
            "grid_row": null,
            "grid_template_areas": null,
            "grid_template_columns": null,
            "grid_template_rows": null,
            "height": null,
            "justify_content": null,
            "justify_items": null,
            "left": null,
            "margin": null,
            "max_height": null,
            "max_width": null,
            "min_height": null,
            "min_width": null,
            "object_fit": null,
            "object_position": null,
            "order": null,
            "overflow": null,
            "overflow_x": null,
            "overflow_y": null,
            "padding": null,
            "right": null,
            "top": null,
            "visibility": null,
            "width": null
          }
        },
        "baf12de9a3644fc1a7fdd32395a9efbd": {
          "model_module": "@jupyter-widgets/base",
          "model_module_version": "1.2.0",
          "model_name": "LayoutModel",
          "state": {
            "_model_module": "@jupyter-widgets/base",
            "_model_module_version": "1.2.0",
            "_model_name": "LayoutModel",
            "_view_count": null,
            "_view_module": "@jupyter-widgets/base",
            "_view_module_version": "1.2.0",
            "_view_name": "LayoutView",
            "align_content": null,
            "align_items": null,
            "align_self": null,
            "border": null,
            "bottom": null,
            "display": null,
            "flex": null,
            "flex_flow": null,
            "grid_area": null,
            "grid_auto_columns": null,
            "grid_auto_flow": null,
            "grid_auto_rows": null,
            "grid_column": null,
            "grid_gap": null,
            "grid_row": null,
            "grid_template_areas": null,
            "grid_template_columns": null,
            "grid_template_rows": null,
            "height": "50px",
            "justify_content": null,
            "justify_items": null,
            "left": null,
            "margin": null,
            "max_height": null,
            "max_width": null,
            "min_height": null,
            "min_width": null,
            "object_fit": null,
            "object_position": null,
            "order": null,
            "overflow": null,
            "overflow_x": null,
            "overflow_y": null,
            "padding": null,
            "right": null,
            "top": null,
            "visibility": null,
            "width": "900px"
          }
        },
        "d35477f4aa2d46009151e655c32ef9b2": {
          "model_module": "@jupyter-widgets/base",
          "model_module_version": "1.2.0",
          "model_name": "LayoutModel",
          "state": {
            "_model_module": "@jupyter-widgets/base",
            "_model_module_version": "1.2.0",
            "_model_name": "LayoutModel",
            "_view_count": null,
            "_view_module": "@jupyter-widgets/base",
            "_view_module_version": "1.2.0",
            "_view_name": "LayoutView",
            "align_content": null,
            "align_items": null,
            "align_self": null,
            "border": null,
            "bottom": null,
            "display": null,
            "flex": null,
            "flex_flow": null,
            "grid_area": null,
            "grid_auto_columns": null,
            "grid_auto_flow": null,
            "grid_auto_rows": null,
            "grid_column": null,
            "grid_gap": null,
            "grid_row": null,
            "grid_template_areas": null,
            "grid_template_columns": null,
            "grid_template_rows": null,
            "height": null,
            "justify_content": null,
            "justify_items": null,
            "left": null,
            "margin": "4px 0px 0px 90px",
            "max_height": null,
            "max_width": null,
            "min_height": null,
            "min_width": null,
            "object_fit": null,
            "object_position": null,
            "order": null,
            "overflow": null,
            "overflow_x": null,
            "overflow_y": null,
            "padding": null,
            "right": null,
            "top": null,
            "visibility": null,
            "width": null
          }
        },
        "d82d12f6a0a249e5a5750af18cbc020e": {
          "model_module": "@jupyter-widgets/controls",
          "model_module_version": "1.5.0",
          "model_name": "DescriptionStyleModel",
          "state": {
            "_model_module": "@jupyter-widgets/controls",
            "_model_module_version": "1.5.0",
            "_model_name": "DescriptionStyleModel",
            "_view_count": null,
            "_view_module": "@jupyter-widgets/base",
            "_view_module_version": "1.2.0",
            "_view_name": "StyleView",
            "description_width": ""
          }
        },
        "f66f034025314913a5bac66234e33df2": {
          "model_module": "@jupyter-widgets/output",
          "model_module_version": "1.0.0",
          "model_name": "OutputModel",
          "state": {
            "_dom_classes": [],
            "_model_module": "@jupyter-widgets/output",
            "_model_module_version": "1.0.0",
            "_model_name": "OutputModel",
            "_view_count": null,
            "_view_module": "@jupyter-widgets/output",
            "_view_module_version": "1.0.0",
            "_view_name": "OutputView",
            "layout": "IPY_MODEL_866eb75519134b6d8298aeda3b02c808",
            "msg_id": "",
            "outputs": [
              {
                "name": "stdout",
                "output_type": "stream",
                "text": [
                  "? tell me about Peter\n",
                  "peter is human. peter is mortal. peter is a professor. peter is a teacher\n"
                ]
              }
            ]
          }
        }
      }
    }
  },
  "nbformat": 4,
  "nbformat_minor": 0
}
